{
 "cells": [
  {
   "cell_type": "markdown",
   "metadata": {},
   "source": [
    "First Lessons With Python"
   ]
  },
  {
   "cell_type": "code",
   "execution_count": null,
   "metadata": {},
   "outputs": [],
   "source": [
    "# Examples of function print and input:\n",
    "\n",
    "print('Hello')\n",
    "\n",
    "# Ask user for their name\n",
    "name = input('What\\'s your name?')\n",
    "\n",
    "# Say hello to user and use parameters\n",
    "print('Hello', name)\n",
    "print('Hello ' + name)\n",
    "print(f'Hello {name}')\n",
    "print('Hello', name, sep='**')\n",
    "print('Hello', name, end='**')\n",
    "print('Hello', name, sep='**', end='**')\n",
    "print('Hello', name, sep='**', end='**')\n"
   ]
  },
  {
   "cell_type": "markdown",
   "metadata": {},
   "source": [
    "String Methods"
   ]
  },
  {
   "cell_type": "code",
   "execution_count": null,
   "metadata": {},
   "outputs": [],
   "source": [
    "# Ask user for their name\n",
    "name = input('What\\'s your name?')\n",
    "\n",
    "# Remove whitespace from str\n",
    "name = name.strip().title()\n",
    "\n",
    "# Capitalize first letter and rest stay low\n",
    "name = name.capitalize()\n",
    "\n",
    "# Capitalize first letter More specifically, words start with uppercased characters and all remaining cased characters have lower case.\n",
    "name = name.title()\n",
    "\n",
    "# Say hello to user \n",
    "print(f'Hello {name}')"
   ]
  },
  {
   "cell_type": "code",
   "execution_count": null,
   "metadata": {},
   "outputs": [],
   "source": [
    "# The same thing but less code\n",
    "# Ask user for their name\n",
    "name = input('What\\'s your name?').strip().title()\n",
    "\n",
    "# Split user's name into first name and last name\n",
    "first, last = name.split(\" \")\n",
    "\n",
    "# Say hello to user \n",
    "print(f'Hello {first}')"
   ]
  },
  {
   "cell_type": "markdown",
   "metadata": {},
   "source": [
    "Int Lesson"
   ]
  },
  {
   "cell_type": "code",
   "execution_count": null,
   "metadata": {},
   "outputs": [],
   "source": [
    "x = float(input(\"What's x? \"))\n",
    "y = float(input(\"What's y? \"))\n",
    "\n",
    "z = x / y\n",
    "\n",
    "print(f\"{z:.2f}\")"
   ]
  }
 ],
 "metadata": {
  "kernelspec": {
   "display_name": "Python 3.10.0 64-bit",
   "language": "python",
   "name": "python3"
  },
  "language_info": {
   "codemirror_mode": {
    "name": "ipython",
    "version": 3
   },
   "file_extension": ".py",
   "mimetype": "text/x-python",
   "name": "python",
   "nbconvert_exporter": "python",
   "pygments_lexer": "ipython3",
   "version": "3.10.0"
  },
  "orig_nbformat": 4,
  "vscode": {
   "interpreter": {
    "hash": "aee8b7b246df8f9039afb4144a1f6fd8d2ca17a180786b69acc140d282b71a49"
   }
  }
 },
 "nbformat": 4,
 "nbformat_minor": 2
}
